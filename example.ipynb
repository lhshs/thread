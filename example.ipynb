{
 "cells": [
  {
   "cell_type": "code",
   "execution_count": 1,
   "metadata": {},
   "outputs": [
    {
     "name": "stdout",
     "output_type": "stream",
     "text": [
      "카카오뱅크 계좌를 생성하였습니다. 현재 잔액: 0원\n",
      "Thread 라이언: 입금 시작합니다.\n",
      "Thread 무지: 입금 시작합니다.\n",
      "Thread 무지: 입금 종료합니다.\n",
      "Thread 어파치: 입금 시작합니다.\n",
      "Thread 라이언: 입금 종료합니다.\n",
      "Thread 어파치: 입금 종료합니다.\n",
      "카카오뱅크 계좌 현재 잔액: 2000원\n"
     ]
    }
   ],
   "source": [
    "import logging\n",
    "from concurrent.futures import ThreadPoolExecutor\n",
    "import time\n",
    " \n",
    "class KakaoBank:\n",
    "    # 공유 변수(value)\n",
    "    def __init__(self):\n",
    "        self.money = 0\n",
    " \n",
    "    def deposit_1000won(self, user_name):\n",
    "        print(\"Thread {}: 입금 시작합니다.\".format(user_name))\n",
    " \n",
    "        # 공유변수(money)에 스래드가 동시에 읽고 쓸 수 있다.\n",
    "        local_data = self.money\n",
    "        local_data += 1000 \n",
    "        time.sleep(0.1)\n",
    "        self.money = local_data\n",
    " \n",
    "        print(\"Thread {}: 입금 종료합니다.\".format(user_name))\n",
    " \n",
    " \n",
    "if __name__ == \"__main__\":\n",
    "    bank = KakaoBank()\n",
    " \n",
    "    print(\"카카오뱅크 계좌를 생성하였습니다. 현재 잔액: {}원\".format(bank.money))\n",
    " \n",
    "    with ThreadPoolExecutor(max_workers=2) as executor:\n",
    "        for user_name in ['라이언', '무지', '어파치']:\n",
    "            executor.submit(bank.deposit_1000won, user_name)\n",
    " \n",
    "    print(\"카카오뱅크 계좌 현재 잔액: {}원\".format(bank.money))"
   ]
  }
 ],
 "metadata": {
  "kernelspec": {
   "display_name": "lhs_3.10",
   "language": "python",
   "name": "python3"
  },
  "language_info": {
   "codemirror_mode": {
    "name": "ipython",
    "version": 3
   },
   "file_extension": ".py",
   "mimetype": "text/x-python",
   "name": "python",
   "nbconvert_exporter": "python",
   "pygments_lexer": "ipython3",
   "version": "3.10.13"
  }
 },
 "nbformat": 4,
 "nbformat_minor": 2
}
